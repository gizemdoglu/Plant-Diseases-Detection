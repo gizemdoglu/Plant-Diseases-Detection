﻿{
  "nbformat": 4,
  "nbformat_minor": 0,
  "metadata": {
    "kernelspec": {
      "display_name": "Python 3",
      "language": "python",
      "name": "python3"
    },
    "language_info": {
      "codemirror_mode": {
        "name": "ipython",
        "version": 3
      },
      "file_extension": ".py",
      "mimetype": "text/x-python",
      "name": "python",
      "nbconvert_exporter": "python",
      "pygments_lexer": "ipython3",
      "version": "3.6.4"
    },
    "colab": {
      "name": "tomato-leaf-disease-detection.ipynb",
      "provenance": [],
      "collapsed_sections": [],
      "machine_shape": "hm"
    },
    "accelerator": "GPU"
  },
  "cells": [
    {
      "cell_type": "code",
      "metadata": {
        "id": "oEDrXMuuNlKW",
        "colab_type": "code",
        "outputId": "e10022d8-651d-46f7-d61d-2c0fc92330b0",
        "colab": {
          "base_uri": "https://localhost:8080/",
          "height": 34
        }
      },
      "source": [
        "from google.colab import drive\n",
        "drive.mount('/content/drive')"
      ],
      "execution_count": 1,
      "outputs": [
        {
          "output_type": "stream",
          "text": [
            "Drive already mounted at /content/drive; to attempt to forcibly remount, call drive.mount(\"/content/drive\", force_remount=True).\n"
          ],
          "name": "stdout"
        }
      ]
    },
    {
      "cell_type": "code",
      "metadata": {
        "id": "pswZ1PPTOVNb",
        "colab_type": "code",
        "outputId": "956fdafc-8317-4f2e-8b39-be30f43323b4",
        "colab": {
          "base_uri": "https://localhost:8080/",
          "height": 34
        }
      },
      "source": [
        "!pip install -q keras\n",
        "import keras"
      ],
      "execution_count": 2,
      "outputs": [
        {
          "output_type": "stream",
          "text": [
            "Using TensorFlow backend.\n"
          ],
          "name": "stderr"
        }
      ]
    },
    {
      "cell_type": "code",
      "metadata": {
        "id": "1GYrXnHfIspa",
        "colab_type": "code",
        "colab": {}
      },
      "source": [
        "import numpy as np\n",
        "import cv2\n",
        "from os import listdir\n",
        "from sklearn.preprocessing import LabelBinarizer\n",
        "from keras.models import Sequential\n",
        "from keras.layers.normalization import BatchNormalization\n",
        "from keras.layers.convolutional import Conv2D, MaxPooling2D\n",
        "from keras.layers.core import Activation, Flatten, Dropout, Dense\n",
        "from keras import backend as K\n",
        "from keras.preprocessing.image import ImageDataGenerator\n",
        "from keras.optimizers import Adam\n",
        "from keras.preprocessing import image\n",
        "from keras.preprocessing.image import img_to_array\n",
        "from sklearn.model_selection import train_test_split\n",
        "import matplotlib.pyplot as plt"
      ],
      "execution_count": 3,
      "outputs": []
    },
    {
      "cell_type": "markdown",
      "metadata": {
        "id": "UvPdThNtntgI",
        "colab_type": "text"
      },
      "source": [
        "**Parameters**"
      ]
    },
    {
      "cell_type": "code",
      "metadata": {
        "id": "fEe5w62gIsp1",
        "colab_type": "code",
        "colab": {}
      },
      "source": [
        "EPOCHS = 25 # Eğitim \"25\" epoch sürsün\n",
        "INIT_LR = 1e-3\n",
        "BS = 32 # Her bir iterasyonda \"32\" resim alınsın\n",
        "default_image_size = tuple((256, 256)) # Giriş resimlerinin boyutları 256 x 256 piksel\n",
        "image_size = 0\n",
        "directory_root = '/content/drive/My Drive/Images of Leaf Diseases/tomato/train'\n",
        "width=256\n",
        "height=256\n",
        "depth=1"
      ],
      "execution_count": 4,
      "outputs": []
    },
    {
      "cell_type": "markdown",
      "metadata": {
        "id": "Rf39ZvwQ-OjX",
        "colab_type": "text"
      },
      "source": [
        "**Function to Convert Images to Array and Using Image Pre-processing**"
      ]
    },
    {
      "cell_type": "code",
      "metadata": {
        "id": "IY_s07YdIsqJ",
        "colab_type": "code",
        "colab": {}
      },
      "source": [
        "def convert_image_to_array(image_dir):\n",
        "    try:\n",
        "        image = cv2.imread(image_dir)\n",
        "        if image is not None :\n",
        "            image = cv2.resize(image, default_image_size)\n",
        "            gray_image = cv2.cvtColor(image, cv2.COLOR_BGR2GRAY)\n",
        "            blured_image = cv2.blur(gray_image,(5,5))\n",
        "            return img_to_array(blured_image)\n",
        "        else :\n",
        "            return np.array([])\n",
        "    except Exception as e:\n",
        "        print(f\"Error : {e}\")\n",
        "        return None"
      ],
      "execution_count": 5,
      "outputs": []
    },
    {
      "cell_type": "markdown",
      "metadata": {
        "id": "b6y5ORNo-cbV",
        "colab_type": "text"
      },
      "source": [
        "**Fetch Images From Directory**"
      ]
    },
    {
      "cell_type": "code",
      "metadata": {
        "id": "wyctahC8Isqb",
        "colab_type": "code",
        "outputId": "b5ba7401-d7d8-48da-ea73-520e482356ae",
        "colab": {
          "base_uri": "https://localhost:8080/",
          "height": 221
        }
      },
      "source": [
        "image_list, label_list = [], []\n",
        "try:\n",
        "    print(\"[INFO] Loading images ...\")\n",
        "    root_dir = listdir(directory_root)\n",
        "    for directory in root_dir :\n",
        "        # Remove .DS_Store from list\n",
        "        if directory == \".DS_Store\" :\n",
        "            root_dir.remove(directory)\n",
        "\n",
        "    plant_disease_folder_list = listdir(f\"{directory_root}\")\n",
        "\n",
        "    for disease_folder in plant_disease_folder_list :\n",
        "      # Remove .DS_Store from list\n",
        "      if disease_folder == \".DS_Store\" :\n",
        "        plant_disease_folder_list.remove(disease_folder)\n",
        "    \n",
        "    for plant_disease_folder in plant_disease_folder_list:\n",
        "      print(f\"[INFO] Processing {plant_disease_folder} ...\")\n",
        "      plant_disease_image_list = listdir(f\"{directory_root}/{plant_disease_folder}/\")\n",
        "                \n",
        "      for single_plant_disease_image in plant_disease_image_list :\n",
        "        if single_plant_disease_image == \".DS_Store\" :\n",
        "          plant_disease_image_list.remove(single_plant_disease_image)\n",
        "      \n",
        "      for image in plant_disease_image_list[:200]:\n",
        "        image_directory = f\"{directory_root}/{plant_disease_folder}/{image}\"\n",
        "        if image_directory.endswith(\".jpg\") == True or image_directory.endswith(\".JPG\") == True:\n",
        "          image_list.append(convert_image_to_array(image_directory))\n",
        "          label_list.append(plant_disease_folder)\n",
        "    print(\"[INFO] Image loading completed\")  \n",
        "\n",
        "except Exception as e:\n",
        "    print(f\"Error : {e}\")"
      ],
      "execution_count": 6,
      "outputs": [
        {
          "output_type": "stream",
          "text": [
            "[INFO] Loading images ...\n",
            "[INFO] Processing Bacterial_Spot ...\n",
            "[INFO] Processing Early_Blight ...\n",
            "[INFO] Processing Late_Blight ...\n",
            "[INFO] Processing Leaf_Mold ...\n",
            "[INFO] Processing Septoria_Leaf_Spot ...\n",
            "[INFO] Processing Target_Spot ...\n",
            "[INFO] Processing Yellow_Leaf_Curl_Virus ...\n",
            "[INFO] Processing Mosaic_Virus ...\n",
            "[INFO] Processing Healthy ...\n",
            "[INFO] Processing Two-Spotted_Spider_Mite ...\n",
            "[INFO] Image loading completed\n"
          ],
          "name": "stdout"
        }
      ]
    },
    {
      "cell_type": "markdown",
      "metadata": {
        "id": "z6zpYmGv-3jR",
        "colab_type": "text"
      },
      "source": [
        "**Get Size of Processed Image**"
      ]
    },
    {
      "cell_type": "code",
      "metadata": {
        "id": "duK9ex-wIsqo",
        "colab_type": "code",
        "colab": {}
      },
      "source": [
        "image_size = len(image_list)"
      ],
      "execution_count": 7,
      "outputs": []
    },
    {
      "cell_type": "markdown",
      "metadata": {
        "id": "juJuJ0ps_KEz",
        "colab_type": "text"
      },
      "source": [
        "**Transform Image Labels using Scikit Learn's LabelBinarizer**"
      ]
    },
    {
      "cell_type": "code",
      "metadata": {
        "id": "ozgh_0x_Isq2",
        "colab_type": "code",
        "outputId": "bd1ebe53-3003-4b5e-81f7-e338b69b9257",
        "colab": {
          "base_uri": "https://localhost:8080/",
          "height": 68
        }
      },
      "source": [
        "label_binarizer = LabelBinarizer()\n",
        "image_labels = label_binarizer.fit_transform(label_list)\n",
        "n_classes = len(label_binarizer.classes_)\n",
        "\n",
        "print(label_binarizer.classes_)\n",
        "\n",
        "np_image_list = np.array(image_list, dtype=np.float16) / 225.0"
      ],
      "execution_count": 8,
      "outputs": [
        {
          "output_type": "stream",
          "text": [
            "['Bacterial_Spot' 'Early_Blight' 'Healthy' 'Late_Blight' 'Leaf_Mold'\n",
            " 'Mosaic_Virus' 'Septoria_Leaf_Spot' 'Target_Spot'\n",
            " 'Two-Spotted_Spider_Mite' 'Yellow_Leaf_Curl_Virus']\n"
          ],
          "name": "stdout"
        }
      ]
    },
    {
      "cell_type": "markdown",
      "metadata": {
        "id": "YdlOW83E_RP3",
        "colab_type": "text"
      },
      "source": [
        "**Splitting Data**"
      ]
    },
    {
      "cell_type": "code",
      "metadata": {
        "id": "03BYXpJEIsrV",
        "colab_type": "code",
        "outputId": "f10225a8-f30d-4450-c88c-0bac6e4f41c8",
        "colab": {
          "base_uri": "https://localhost:8080/",
          "height": 34
        }
      },
      "source": [
        "print(\"[INFO] Spliting data to train, test\")\n",
        "x_train, x_test, y_train, y_test = train_test_split(np_image_list, image_labels, test_size=0.2, random_state = 42)\n",
        "\n",
        "aug = ImageDataGenerator(\n",
        "    rotation_range=25, width_shift_range=0.1,\n",
        "    height_shift_range=0.1, shear_range=0.2, \n",
        "    zoom_range=0.2,horizontal_flip=True, \n",
        "    fill_mode=\"nearest\")"
      ],
      "execution_count": 9,
      "outputs": [
        {
          "output_type": "stream",
          "text": [
            "[INFO] Spliting data to train, test\n"
          ],
          "name": "stdout"
        }
      ]
    },
    {
      "cell_type": "markdown",
      "metadata": {
        "id": "5EQfOMih_WcB",
        "colab_type": "text"
      },
      "source": [
        "**Model Build**"
      ]
    },
    {
      "cell_type": "code",
      "metadata": {
        "id": "N_SPp32wIssH",
        "colab_type": "code",
        "outputId": "38374783-cd37-42ab-ee27-59294f5f092a",
        "colab": {
          "base_uri": "https://localhost:8080/",
          "height": 136
        }
      },
      "source": [
        "model = Sequential()\n",
        "inputShape = (height, width, depth)\n",
        "chanDim = -1\n",
        "if K.image_data_format() == \"channels_first\":\n",
        "    inputShape = (depth, height, width)\n",
        "    chanDim = 1\n",
        "    \n",
        "print('x_train Shape:', x_train.shape)\n",
        "print('x_test Shape:', x_test.shape)\n",
        "print('\\nTrain Samples:', x_train.shape[0])\n",
        "print('Test Samples:', x_test.shape[0])\n",
        "\n",
        "# 3x3 boyutunda 32 adet filtreden oluşan ReLU aktivasyonlu CONV katmanı ekleyelim\n",
        "model.add(Conv2D(32, (3, 3), activation='relu', padding=\"same\", input_shape=inputShape))\n",
        "model.add(BatchNormalization(axis=chanDim))\n",
        "\n",
        "# 3x3 boyutlu çerçeveden oluşan MAXPOOL katmanı ekleyelim\n",
        "model.add(MaxPooling2D(pool_size=(3, 3)))\n",
        "\n",
        "# Her seferinde nöronların %25'i atılsın (drop)\n",
        "model.add(Dropout(0.25))\n",
        "\n",
        "# 3x3 boyutunda 64 adet filtreden oluşan ReLU aktivasyonlu CONV katmanı ekleyelim\n",
        "model.add(Conv2D(64, (3, 3), activation='relu', padding=\"same\"))\n",
        "model.add(BatchNormalization(axis=chanDim))\n",
        "\n",
        "# 3x3 boyutunda 64 adet filtreden oluşan ReLU aktivasyonlu CONV katmanı ekleyelim\n",
        "model.add(Conv2D(64, (3, 3), activation='relu', padding=\"same\"))\n",
        "model.add(BatchNormalization(axis=chanDim))\n",
        "\n",
        "# 2x2 boyutlu çerçeveden oluşan MAXPOOL katmanı ekleyelim\n",
        "model.add(MaxPooling2D(pool_size=(2, 2)))\n",
        "\n",
        "# Her seferinde nöronların %25'i atılsın (drop)\n",
        "model.add(Dropout(0.25))\n",
        "\n",
        "# 3x3 boyutunda 128 adet filtreden oluşan ReLU aktivasyonlu CONV katmanı ekleyelim\n",
        "model.add(Conv2D(128, (3, 3), activation='relu', padding=\"same\"))\n",
        "model.add(BatchNormalization(axis=chanDim))\n",
        "\n",
        "# 3x3 boyutunda 128 adet filtreden oluşan ReLU aktivasyonlu CONV katmanı ekleyelim\n",
        "model.add(Conv2D(128, (3, 3), activation='relu', padding=\"same\"))\n",
        "model.add(BatchNormalization(axis=chanDim))\n",
        "\n",
        "# 2x2 boyutlu çerçeveden oluşan MAXPOOL katmanı ekleyelim\n",
        "model.add(MaxPooling2D(pool_size=(2, 2)))\n",
        "\n",
        "# Her seferinde nöronların %25'i atılsın (drop)\n",
        "model.add(Dropout(0.25))\n",
        "\n",
        "# Tam bağlantılı (fully connected) katmanına geçiş olacağı için düzleştirme yapalım\n",
        "model.add(Flatten())\n",
        "\n",
        "# 1024 nörondan oluşan ReLU aktivasyonlu FC katmanı ekleyelim\n",
        "model.add(Dense(1024, activation='relu'))\n",
        "model.add(BatchNormalization())\n",
        "\n",
        "# Her seferinde nöronların %25'i atılsın (drop)\n",
        "model.add(Dropout(0.5))\n",
        "\n",
        "# Çıkış katmanına sınıf sayısı kadar Softmax aktivasyonlu nöron ekleyelim\n",
        "model.add(Dense(n_classes, activation='softmax'))\n",
        "\n",
        "opt = Adam(lr=INIT_LR, decay=INIT_LR / EPOCHS)\n",
        "# Distribution\n",
        "model.compile(loss=\"binary_crossentropy\", optimizer=opt,metrics=[\"accuracy\"])\n",
        "# Train the Network\n",
        "print(\"\\n[INFO] training network...\")"
      ],
      "execution_count": 10,
      "outputs": [
        {
          "output_type": "stream",
          "text": [
            "x_train Shape: (1600, 256, 256, 3)\n",
            "x_test Shape: (400, 256, 256, 3)\n",
            "\n",
            "Train Samples: 1600\n",
            "Test Samples: 400\n",
            "\n",
            "[INFO] training network...\n"
          ],
          "name": "stdout"
        }
      ]
    },
    {
      "cell_type": "code",
      "metadata": {
        "id": "IogR71SjIssS",
        "colab_type": "code",
        "outputId": "6c5155fe-83ed-41ea-a45a-2d866cb52b91",
        "colab": {
          "base_uri": "https://localhost:8080/",
          "height": 867
        }
      },
      "source": [
        "model.summary()"
      ],
      "execution_count": 11,
      "outputs": [
        {
          "output_type": "stream",
          "text": [
            "Model: \"sequential_1\"\n",
            "_________________________________________________________________\n",
            "Layer (type)                 Output Shape              Param #   \n",
            "=================================================================\n",
            "conv2d_1 (Conv2D)            (None, 256, 256, 32)      896       \n",
            "_________________________________________________________________\n",
            "batch_normalization_1 (Batch (None, 256, 256, 32)      128       \n",
            "_________________________________________________________________\n",
            "max_pooling2d_1 (MaxPooling2 (None, 85, 85, 32)        0         \n",
            "_________________________________________________________________\n",
            "dropout_1 (Dropout)          (None, 85, 85, 32)        0         \n",
            "_________________________________________________________________\n",
            "conv2d_2 (Conv2D)            (None, 85, 85, 64)        18496     \n",
            "_________________________________________________________________\n",
            "batch_normalization_2 (Batch (None, 85, 85, 64)        256       \n",
            "_________________________________________________________________\n",
            "conv2d_3 (Conv2D)            (None, 85, 85, 64)        36928     \n",
            "_________________________________________________________________\n",
            "batch_normalization_3 (Batch (None, 85, 85, 64)        256       \n",
            "_________________________________________________________________\n",
            "max_pooling2d_2 (MaxPooling2 (None, 42, 42, 64)        0         \n",
            "_________________________________________________________________\n",
            "dropout_2 (Dropout)          (None, 42, 42, 64)        0         \n",
            "_________________________________________________________________\n",
            "conv2d_4 (Conv2D)            (None, 42, 42, 128)       73856     \n",
            "_________________________________________________________________\n",
            "batch_normalization_4 (Batch (None, 42, 42, 128)       512       \n",
            "_________________________________________________________________\n",
            "conv2d_5 (Conv2D)            (None, 42, 42, 128)       147584    \n",
            "_________________________________________________________________\n",
            "batch_normalization_5 (Batch (None, 42, 42, 128)       512       \n",
            "_________________________________________________________________\n",
            "max_pooling2d_3 (MaxPooling2 (None, 21, 21, 128)       0         \n",
            "_________________________________________________________________\n",
            "dropout_3 (Dropout)          (None, 21, 21, 128)       0         \n",
            "_________________________________________________________________\n",
            "flatten_1 (Flatten)          (None, 56448)             0         \n",
            "_________________________________________________________________\n",
            "dense_1 (Dense)              (None, 1024)              57803776  \n",
            "_________________________________________________________________\n",
            "batch_normalization_6 (Batch (None, 1024)              4096      \n",
            "_________________________________________________________________\n",
            "dropout_4 (Dropout)          (None, 1024)              0         \n",
            "_________________________________________________________________\n",
            "dense_2 (Dense)              (None, 10)                10250     \n",
            "=================================================================\n",
            "Total params: 58,097,546\n",
            "Trainable params: 58,094,666\n",
            "Non-trainable params: 2,880\n",
            "_________________________________________________________________\n"
          ],
          "name": "stdout"
        }
      ]
    },
    {
      "cell_type": "markdown",
      "metadata": {
        "id": "aBu_bTHq_caZ",
        "colab_type": "text"
      },
      "source": [
        "**Performing Training**"
      ]
    },
    {
      "cell_type": "code",
      "metadata": {
        "id": "srU5vwjVIssq",
        "colab_type": "code",
        "outputId": "f78e4d43-87fc-4bc0-9637-187d65af8398",
        "colab": {
          "base_uri": "https://localhost:8080/",
          "height": 867
        }
      },
      "source": [
        "# Eğitim işlemini gerçekleştirelim\n",
        "\n",
        "history = model.fit_generator(\n",
        "    aug.flow(x_train, y_train, batch_size=BS),\n",
        "    validation_data=(x_test, y_test),\n",
        "    steps_per_epoch=len(x_train) // BS,\n",
        "    epochs=EPOCHS, verbose=1\n",
        "    )"
      ],
      "execution_count": 12,
      "outputs": [
        {
          "output_type": "stream",
          "text": [
            "Epoch 1/25\n",
            "50/50 [==============================] - 22s 442ms/step - loss: 0.2836 - accuracy: 0.9063 - val_loss: 0.7989 - val_accuracy: 0.8228\n",
            "Epoch 2/25\n",
            "50/50 [==============================] - 21s 416ms/step - loss: 0.2241 - accuracy: 0.9224 - val_loss: 0.8863 - val_accuracy: 0.8220\n",
            "Epoch 3/25\n",
            "50/50 [==============================] - 21s 414ms/step - loss: 0.1980 - accuracy: 0.9309 - val_loss: 2.1687 - val_accuracy: 0.8240\n",
            "Epoch 4/25\n",
            "50/50 [==============================] - 21s 422ms/step - loss: 0.1816 - accuracy: 0.9363 - val_loss: 1.2590 - val_accuracy: 0.8262\n",
            "Epoch 5/25\n",
            "50/50 [==============================] - 21s 415ms/step - loss: 0.1728 - accuracy: 0.9388 - val_loss: 1.3291 - val_accuracy: 0.8210\n",
            "Epoch 6/25\n",
            "50/50 [==============================] - 21s 417ms/step - loss: 0.1584 - accuracy: 0.9478 - val_loss: 0.8404 - val_accuracy: 0.8532\n",
            "Epoch 7/25\n",
            "50/50 [==============================] - 21s 423ms/step - loss: 0.1466 - accuracy: 0.9471 - val_loss: 1.4170 - val_accuracy: 0.8310\n",
            "Epoch 8/25\n",
            "50/50 [==============================] - 21s 426ms/step - loss: 0.1434 - accuracy: 0.9457 - val_loss: 0.3449 - val_accuracy: 0.9003\n",
            "Epoch 9/25\n",
            "50/50 [==============================] - 22s 434ms/step - loss: 0.1284 - accuracy: 0.9521 - val_loss: 0.3160 - val_accuracy: 0.9105\n",
            "Epoch 10/25\n",
            "50/50 [==============================] - 22s 432ms/step - loss: 0.1079 - accuracy: 0.9606 - val_loss: 0.4165 - val_accuracy: 0.8790\n",
            "Epoch 11/25\n",
            "50/50 [==============================] - 21s 424ms/step - loss: 0.0994 - accuracy: 0.9616 - val_loss: 0.3204 - val_accuracy: 0.9067\n",
            "Epoch 12/25\n",
            "50/50 [==============================] - 21s 430ms/step - loss: 0.0910 - accuracy: 0.9679 - val_loss: 0.4799 - val_accuracy: 0.8927\n",
            "Epoch 13/25\n",
            "50/50 [==============================] - 21s 425ms/step - loss: 0.0935 - accuracy: 0.9668 - val_loss: 0.1350 - val_accuracy: 0.9535\n",
            "Epoch 14/25\n",
            "50/50 [==============================] - 21s 426ms/step - loss: 0.0896 - accuracy: 0.9659 - val_loss: 0.1353 - val_accuracy: 0.9542\n",
            "Epoch 15/25\n",
            "50/50 [==============================] - 21s 428ms/step - loss: 0.0872 - accuracy: 0.9689 - val_loss: 0.2917 - val_accuracy: 0.9287\n",
            "Epoch 16/25\n",
            "50/50 [==============================] - 22s 434ms/step - loss: 0.0645 - accuracy: 0.9751 - val_loss: 0.3415 - val_accuracy: 0.9227\n",
            "Epoch 17/25\n",
            "50/50 [==============================] - 21s 426ms/step - loss: 0.0713 - accuracy: 0.9716 - val_loss: 1.3938 - val_accuracy: 0.8535\n",
            "Epoch 18/25\n",
            "50/50 [==============================] - 21s 422ms/step - loss: 0.0702 - accuracy: 0.9738 - val_loss: 0.2739 - val_accuracy: 0.9330\n",
            "Epoch 19/25\n",
            "50/50 [==============================] - 21s 417ms/step - loss: 0.0654 - accuracy: 0.9733 - val_loss: 0.4958 - val_accuracy: 0.9090\n",
            "Epoch 20/25\n",
            "50/50 [==============================] - 21s 418ms/step - loss: 0.0687 - accuracy: 0.9734 - val_loss: 1.0431 - val_accuracy: 0.8642\n",
            "Epoch 21/25\n",
            "50/50 [==============================] - 21s 417ms/step - loss: 0.0734 - accuracy: 0.9721 - val_loss: 0.6650 - val_accuracy: 0.8840\n",
            "Epoch 22/25\n",
            "50/50 [==============================] - 21s 422ms/step - loss: 0.0735 - accuracy: 0.9722 - val_loss: 0.8486 - val_accuracy: 0.8838\n",
            "Epoch 23/25\n",
            "50/50 [==============================] - 21s 423ms/step - loss: 0.0666 - accuracy: 0.9752 - val_loss: 0.6687 - val_accuracy: 0.8912\n",
            "Epoch 24/25\n",
            "50/50 [==============================] - 21s 423ms/step - loss: 0.0680 - accuracy: 0.9749 - val_loss: 0.2337 - val_accuracy: 0.9367\n",
            "Epoch 25/25\n",
            "50/50 [==============================] - 21s 417ms/step - loss: 0.0586 - accuracy: 0.9783 - val_loss: 0.0933 - val_accuracy: 0.9705\n"
          ],
          "name": "stdout"
        }
      ]
    },
    {
      "cell_type": "markdown",
      "metadata": {
        "id": "mlYRov-oY70a",
        "colab_type": "text"
      },
      "source": [
        "**Performing Testing and Showing the Results**"
      ]
    },
    {
      "cell_type": "code",
      "metadata": {
        "id": "OP-y4W7OIstE",
        "colab_type": "code",
        "outputId": "158b9ed7-d32f-4a74-dcbc-1a6e8bbaa6aa",
        "colab": {
          "base_uri": "https://localhost:8080/",
          "height": 51
        }
      },
      "source": [
        "# Test işlemini gerçekleştirelim ve sonuçları ekrana yazdıralım\n",
        "\n",
        "score = model.evaluate(x_test, y_test, verbose=0)\n",
        "print('Test Loss:', score[0]*100)\n",
        "print('Test Accuracy:', score[1]*100)"
      ],
      "execution_count": 13,
      "outputs": [
        {
          "output_type": "stream",
          "text": [
            "Test Loss: 9.332565620541573\n",
            "Test Accuracy: 97.04999327659607\n"
          ],
          "name": "stdout"
        }
      ]
    },
    {
      "cell_type": "markdown",
      "metadata": {
        "id": "ZrxUgzJQ_jN-",
        "colab_type": "text"
      },
      "source": [
        "**Graphs**"
      ]
    },
    {
      "cell_type": "code",
      "metadata": {
        "id": "uZtzwmqiIss5",
        "colab_type": "code",
        "outputId": "987137b6-9243-4ec5-c22b-44991eda2372",
        "colab": {
          "base_uri": "https://localhost:8080/",
          "height": 1000
        }
      },
      "source": [
        "acc = history.history['accuracy']\n",
        "val_acc = history.history['val_accuracy']\n",
        "loss = history.history['loss']\n",
        "val_loss = history.history['val_loss']\n",
        "epochs = range(1, len(acc) + 1)\n",
        "\n",
        "# Train and Validation Accuracy\n",
        "plt.rcParams[\"figure.figsize\"] = (10,10)\n",
        "plt.plot(epochs, acc, 'b', label='Training Accurarcy')\n",
        "plt.plot(epochs, val_acc, 'r', label='Validation Accurarcy')\n",
        "plt.title('Training and Validation Accurarcy', fontsize=18)\n",
        "plt.legend()\n",
        "\n",
        "plt.figure()\n",
        "# Train and Validation Loss\n",
        "plt.plot(epochs, loss, 'b', label='Training Loss')\n",
        "plt.plot(epochs, val_loss, 'r', label='Validation Loss')\n",
        "plt.title('Training and Validation Loss', fontsize=18)\n",
        "plt.legend()\n",
        "plt.show()"
      ],
      "execution_count": 14,
      "outputs": [
        {
          "output_type": "display_data",
          "data": {
            "image/png": "[encoded data removed]",
            "text/plain": [
              "<Figure size 720x720 with 1 Axes>"
            ]
          },
          "metadata": {
            "tags": [],
            "needs_background": "light"
          }
        },
        {
          "output_type": "display_data",
          "data": {
            "image/png": "[encoded data removed]",
            "text/plain": [
              "<Figure size 720x720 with 1 Axes>"
            ]
          },
          "metadata": {
            "tags": [],
            "needs_background": "light"
          }
        }
      ]
    },
    {
      "cell_type": "markdown",
      "metadata": {
        "id": "3_eXeQioAdna",
        "colab_type": "text"
      },
      "source": [
        "**Making Predictions**"
      ]
    },
    {
      "cell_type": "code",
      "metadata": {
        "id": "tsKE01hs2Uji",
        "colab_type": "code",
        "colab": {}
      },
      "source": [
        "y_pred = model.predict(x_test)\n",
        "\n",
        "# Getting Labels\n",
        "y_pred_labels = np.argmax(y_pred,axis = 1)\n",
        "y_true = np.argmax(y_test,axis = 1)"
      ],
      "execution_count": 15,
      "outputs": []
    },
    {
      "cell_type": "markdown",
      "metadata": {
        "id": "flZHY24G_1rz",
        "colab_type": "text"
      },
      "source": [
        "**Making Confusion Matrix**"
      ]
    },
    {
      "cell_type": "code",
      "metadata": {
        "id": "NoTUxD3s2atP",
        "colab_type": "code",
        "colab": {}
      },
      "source": [
        "# Creating a Confusion Matrix\n",
        "from sklearn.metrics import confusion_matrix\n",
        "\n",
        "cm = confusion_matrix(y_true,y_pred_labels)"
      ],
      "execution_count": 16,
      "outputs": []
    },
    {
      "cell_type": "markdown",
      "metadata": {
        "id": "mSZJedMn_uK2",
        "colab_type": "text"
      },
      "source": [
        "**Visualizing Confusion Matrix**"
      ]
    },
    {
      "cell_type": "code",
      "metadata": {
        "id": "pZ-CK_jM2eP9",
        "colab_type": "code",
        "outputId": "ea8bc11f-48bc-4bf5-d694-a812994223ed",
        "colab": {
          "base_uri": "https://localhost:8080/",
          "height": 811
        }
      },
      "source": [
        "import pandas as pd\n",
        "import seaborn as sns\n",
        "\n",
        "from sklearn.metrics import accuracy_score, confusion_matrix, precision_recall_fscore_support\n",
        "\n",
        "# Transform to df for easier plotting\n",
        "cm_df = pd.DataFrame(cm, index = ['Bacterial_Spot', 'Early_Blight', 'Healthy', 'Late_Blight', 'Leaf_Mold',\n",
        " 'Mosaic_Virus', 'Septoria_Leaf_Spot', 'Target_Spot', 'Two-Spotted_Spider_Mite', 'Yellow_Leaf_Curl_Virus'],\n",
        "\n",
        "                     columns = ['Bacterial_Spot', 'Early_Blight', 'Healthy', 'Late_Blight', 'Leaf_Mold',\n",
        " 'Mosaic_Virus', 'Septoria_Leaf_Spot', 'Target_Spot', 'Two-Spotted_Spider_Mite', 'Yellow_Leaf_Curl_Virus'])\n",
        "\n",
        "plt.figure(figsize=(10,10))\n",
        "sns.heatmap(cm_df, annot = True)\n",
        "plt.title('CNN  Tomato Pest Classify', fontsize=30)\n",
        "plt.ylabel('True Label', fontsize=18)\n",
        "plt.xlabel('Prediction Label', fontsize=18)\n",
        "plt.show()"
      ],
      "execution_count": 17,
      "outputs": [
        {
          "output_type": "stream",
          "text": [
            "/usr/local/lib/python3.6/dist-packages/statsmodels/tools/_testing.py:19: FutureWarning: pandas.util.testing is deprecated. Use the functions in the public API at pandas.testing instead.\n",
            "  import pandas.util.testing as tm\n"
          ],
          "name": "stderr"
        },
        {
          "output_type": "display_data",
          "data": {
            "image/png": "[encoded data removed]",
            "text/plain": [
              "<Figure size 720x720 with 2 Axes>"
            ]
          },
          "metadata": {
            "tags": [],
            "needs_background": "light"
          }
        }
      ]
    }
  ]
}
